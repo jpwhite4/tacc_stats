{
 "metadata": {
  "name": "ubdemo"
 }, 
 "nbformat": 2, 
 "worksheets": [
  {
   "cells": [
    {
     "cell_type": "markdown", 
     "source": [
      "* import cPickle as pickle in order to transparently use the same interface. ", 
      "* import job_stats from the tacc_stats monitor directory"
     ]
    }, 
    {
     "cell_type": "code", 
     "collapsed": true, 
     "input": [
      "import sys", 
      "sys.path.append('../../monitor')", 
      "import job_stats", 
      "import cPickle as pickle"
     ], 
     "language": "python", 
     "outputs": [], 
     "prompt_number": 54
    }, 
    {
     "cell_type": "markdown", 
     "source": [
      "* Load a single job's file from my directory of them on Ranger", 
      "* This is a local untar of John's nightly files"
     ]
    }, 
    {
     "cell_type": "code", 
     "collapsed": true, 
     "input": [
      "j=pickle.load(open('nightly_jobs/2012-10-30/2887373'))"
     ], 
     "language": "python", 
     "outputs": [], 
     "prompt_number": 38
    }, 
    {
     "cell_type": "markdown", 
     "source": [
      "* Let's see what's actually in this object."
     ]
    }, 
    {
     "cell_type": "code", 
     "collapsed": false, 
     "input": [
      "dir(j)"
     ], 
     "language": "python", 
     "outputs": [], 
     "prompt_number": 39
    }, 
    {
     "cell_type": "markdown", 
     "source": [
      "* The hosts data structure contains most of the actual data", 
      "* But we'll come back to a few others"
     ]
    }, 
    {
     "cell_type": "code", 
     "collapsed": false, 
     "input": [
      "j.hosts"
     ], 
     "language": "python", 
     "outputs": [], 
     "prompt_number": 40
    }, 
    {
     "cell_type": "markdown", 
     "source": [
      "* Hosts is a dictionary of further objects.", 
      "* Let's pick one and have a look around"
     ]
    }, 
    {
     "cell_type": "code", 
     "collapsed": false, 
     "input": [
      "h='i101-111.ranger.tacc.utexas.edu'", 
      "dir(j.hosts[h])"
     ], 
     "language": "python", 
     "outputs": [], 
     "prompt_number": 41
    }, 
    {
     "cell_type": "markdown", 
     "source": [
      "* The stats dictionary contains all of the data for this host"
     ]
    }, 
    {
     "cell_type": "code", 
     "collapsed": false, 
     "input": [
      "j.hosts[h].stats.keys()"
     ], 
     "language": "python", 
     "outputs": [], 
     "prompt_number": 42
    }, 
    {
     "cell_type": "markdown", 
     "source": [
      "* Each key here corresponds (more or less) to the lines from the raw data", 
      "* The value for each key is a dictionary containing key/value pairs that point to numpy arrays of the actual data for this type.", 
      "* In the case of amd64_core, there's a dictionary entry for each core (strings '0' through '15' on Ranger)"
     ]
    }, 
    {
     "cell_type": "code", 
     "collapsed": false, 
     "input": [
      "j.hosts[h].stats['amd64_core']['0']"
     ], 
     "language": "python", 
     "outputs": [], 
     "prompt_number": 43
    }, 
    {
     "cell_type": "markdown", 
     "source": [
      "* These three columns represent the three core counters we count: SSE_FLOPS, Data Cache Sys Fills, and User Cycles", 
      "* There is one row for each time sample", 
      "* How do we know which column corresponds to which counter?", 
      "<br><br>", 
      "* The get_schema method returns the schema for this data for a given initial key"
     ]
    }, 
    {
     "cell_type": "code", 
     "collapsed": false, 
     "input": [
      "j.get_schema('amd64_core')"
     ], 
     "language": "python", 
     "outputs": [], 
     "prompt_number": 45
    }, 
    {
     "cell_type": "markdown", 
     "source": [
      "* The keys of this dictionary let you know what's available", 
      "* There are some additional things like the unit of measure for a thing, and whether it's an event or not", 
      "<br><br>", 
      "* To get the column index into the host stats array, you can do:"
     ]
    }, 
    {
     "cell_type": "code", 
     "collapsed": false, 
     "input": [
      "index=j.get_schema('amd64_core')['SSE_FLOPS'].index", 
      "print index"
     ], 
     "language": "python", 
     "outputs": [], 
     "prompt_number": 46
    }, 
    {
     "cell_type": "markdown", 
     "source": [
      "* So now we can do:"
     ]
    }, 
    {
     "cell_type": "code", 
     "collapsed": false, 
     "input": [
      "v=j.hosts[h].stats['amd64_core']['0'][:,index]", 
      "print v"
     ], 
     "language": "python", 
     "outputs": [], 
     "prompt_number": 52
    }, 
    {
     "cell_type": "markdown", 
     "source": [
      "* Which is a 1-D numpy array of values for SSE_FLOPS for core 0 on host i101-111 on Ranger", 
      "<br><br>", 
      "* These values are time-aligned and robustified in various ways (account for roll-over, etc.). ", 
      "* They count raw SSE floating point operations as measured by the hardware counters.", 
      "* They are more useful than the raw data, but typically what we want is rates:"
     ]
    }, 
    {
     "cell_type": "code", 
     "collapsed": false, 
     "input": [
      "import numpy", 
      "r = numpy.diff(v)/numpy.diff(j.times)", 
      "print r"
     ], 
     "language": "python", 
     "outputs": [], 
     "prompt_number": 53
    }, 
    {
     "cell_type": "code", 
     "collapsed": false, 
     "input": [
      "%pylab inline", 
      "from pylab import *", 
      "t=j.times-j.times[0]", 
      "ax=subplot(111)", 
      "plot(t[0:-1]/3600.,r)"
     ], 
     "language": "python", 
     "outputs": [], 
     "prompt_number": 37
    }, 
    {
     "cell_type": "markdown", 
     "source": [
      "* There is a simpler interface to the data", 
      "* But you still need to look at the schema to know what's there"
     ]
    }, 
    {
     "cell_type": "code", 
     "collapsed": false, 
     "input": [
      "help(j.hosts[h].get_stats)"
     ], 
     "language": "python", 
     "outputs": [], 
     "prompt_number": 61
    }, 
    {
     "cell_type": "code", 
     "collapsed": false, 
     "input": [
      "j.hosts[h].get_stats('amd64_core','0','SSE_FLOPS') "
     ], 
     "language": "python", 
     "outputs": [], 
     "prompt_number": 59
    }, 
    {
     "cell_type": "markdown", 
     "source": []
    }
   ]
  }
 ]
}